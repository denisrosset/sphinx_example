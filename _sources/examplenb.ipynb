{
 "cells": [
  {
   "cell_type": "markdown",
   "id": "c83792a0-2e55-4a94-b122-255214b6f7d5",
   "metadata": {},
   "source": [
    "# Example notebook\n",
    "\n",
    "I'll start with a small description so that Sphinx is happy (especially about having a document title!)."
   ]
  },
  {
   "cell_type": "code",
   "execution_count": 1,
   "id": "65061830-aa66-4a2b-a5d6-323ad5d430f8",
   "metadata": {},
   "outputs": [
    {
     "data": {
      "text/plain": [
       "4"
      ]
     },
     "execution_count": 1,
     "metadata": {},
     "output_type": "execute_result"
    }
   ],
   "source": [
    "from sphinx_example import *\n",
    "plus(2, 2)"
   ]
  }
 ],
 "metadata": {
  "kernelspec": {
   "display_name": "Python 3 (ipykernel)",
   "language": "python",
   "name": "python3"
  },
  "language_info": {
   "codemirror_mode": {
    "name": "ipython",
    "version": 3
   },
   "file_extension": ".py",
   "mimetype": "text/x-python",
   "name": "python",
   "nbconvert_exporter": "python",
   "pygments_lexer": "ipython3",
   "version": "3.8.10"
  }
 },
 "nbformat": 4,
 "nbformat_minor": 5
}
